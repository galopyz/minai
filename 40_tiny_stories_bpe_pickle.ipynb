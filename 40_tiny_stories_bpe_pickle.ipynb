{
 "cells": [
  {
   "cell_type": "code",
   "execution_count": null,
   "id": "bdea3ff1",
   "metadata": {},
   "outputs": [],
   "source": [
    "#|default_exp tiny"
   ]
  },
  {
   "cell_type": "markdown",
   "id": "3498a5ca",
   "metadata": {},
   "source": [
    "BPE saving .."
   ]
  },
  {
   "cell_type": "markdown",
   "id": "0fb8bde8",
   "metadata": {},
   "source": [
    "# Tiny Stories Hackathon\n",
    "> From Cluster of stars study group"
   ]
  },
  {
   "cell_type": "markdown",
   "id": "dc82c861",
   "metadata": {},
   "source": [
    "## Data"
   ]
  },
  {
   "cell_type": "markdown",
   "id": "ccc14c85",
   "metadata": {},
   "source": [
    "### Dataset "
   ]
  },
  {
   "cell_type": "code",
   "execution_count": null,
   "id": "f9e940d7",
   "metadata": {},
   "outputs": [],
   "source": [
    "#|export\n",
    "from datasets import load_dataset\n",
    "import tiktoken\n",
    "import torch\n",
    "import math\n",
    "import torch.nn as nn\n",
    "import torch.nn.functional as F\n",
    "from torch import Tensor, BoolTensor\n",
    "from minai import *\n",
    "\n",
    "from functools import partial\n",
    "from torch.optim import lr_scheduler"
   ]
  },
  {
   "cell_type": "markdown",
   "id": "5f4bc327",
   "metadata": {},
   "source": [
    "Grab tiny stories data"
   ]
  },
  {
   "cell_type": "code",
   "execution_count": null,
   "id": "b753de94",
   "metadata": {},
   "outputs": [],
   "source": [
    "#|export\n",
    "import json\n",
    "from fastcore.all import *\n",
    "\n",
    "def load_json(path):\n",
    "    \"Load JSON file from path\"\n",
    "    return json.loads(path.read_text())"
   ]
  },
  {
   "cell_type": "code",
   "execution_count": null,
   "id": "55d2ea13",
   "metadata": {},
   "outputs": [
    {
     "data": {
      "text/plain": [
       "(#50) [Path('/home/kappa/git/minai/TinyStories_All_data/data23.json'),Path('/home/kappa/git/minai/TinyStories_All_data/data11.json'),Path('/home/kappa/git/minai/TinyStories_All_data/data47.json'),Path('/home/kappa/git/minai/TinyStories_All_data/data26.json'),Path('/home/kappa/git/minai/TinyStories_All_data/data42.json'),Path('/home/kappa/git/minai/TinyStories_All_data/data07.json'),Path('/home/kappa/git/minai/TinyStories_All_data/data02.json'),Path('/home/kappa/git/minai/TinyStories_All_data/data13.json'),Path('/home/kappa/git/minai/TinyStories_All_data/data01.json'),Path('/home/kappa/git/minai/TinyStories_All_data/data33.json'),Path('/home/kappa/git/minai/TinyStories_All_data/data09.json'),Path('/home/kappa/git/minai/TinyStories_All_data/data21.json'),Path('/home/kappa/git/minai/TinyStories_All_data/data30.json'),Path('/home/kappa/git/minai/TinyStories_All_data/data12.json'),Path('/home/kappa/git/minai/TinyStories_All_data/data15.json'),Path('/home/kappa/git/minai/TinyStories_All_data/data27.json'),Path('/home/kappa/git/minai/TinyStories_All_data/data48.json'),Path('/home/kappa/git/minai/TinyStories_All_data/data10.json'),Path('/home/kappa/git/minai/TinyStories_All_data/data43.json'),Path('/home/kappa/git/minai/TinyStories_All_data/data20.json')...]"
      ]
     },
     "execution_count": null,
     "metadata": {},
     "output_type": "execute_result"
    }
   ],
   "source": [
    "#|export\n",
    "path = Path.home()/'git/minai/TinyStories_All_data'\n",
    "path.ls()"
   ]
  },
  {
   "cell_type": "code",
   "execution_count": null,
   "id": "2a1295d0",
   "metadata": {},
   "outputs": [
    {
     "data": {
      "text/plain": [
       "{'story': 'Once upon a time, there was a big cave. In the cave, there lived a big bear. The bear was very bitter. He did not like to play with others. He just wanted to be alone.\\nOne day, a little bird flew into the cave. The bird wanted to play with the bear. The bear did not like this. He tried to tease the bird. The bird did not go away. The bird kept trying to play with the bear.\\nThen, something unexpected happened. The bear started to laugh. He was not bitter anymore. The little bird and the big bear became friends. They played together every day. They were very happy.',\n",
       " 'instruction': {'prompt:': 'Write a short story (3-5 paragraphs) which only uses very simple words that a 3 year old child would understand. The story should use the verb \"tease\", the noun \"cave\" and the adjective \"bitter\". The story has the following features: something unexpected happens / there is a plot twist. Remember to only use simple words!',\n",
       "  'words': ['tease', 'cave', 'bitter'],\n",
       "  'features': ['Twist']},\n",
       " 'summary': 'A bitter bear living alone in a cave is befriended by a persistent little bird who eventually helps him overcome his bitterness and they become friends.',\n",
       " 'source': 'GPT-4'}"
      ]
     },
     "execution_count": null,
     "metadata": {},
     "output_type": "execute_result"
    }
   ],
   "source": [
    "#|export\n",
    "txt_L = L(load_json(path/'data23.json'))\n",
    "txt_L[0]"
   ]
  },
  {
   "cell_type": "code",
   "execution_count": null,
   "id": "1c4b5dd0",
   "metadata": {},
   "outputs": [
    {
     "data": {
      "text/plain": [
       "{'GPT-3.5', 'GPT-4'}"
      ]
     },
     "execution_count": null,
     "metadata": {},
     "output_type": "execute_result"
    }
   ],
   "source": [
    "set(o['source'] for o in txt_L)"
   ]
  },
  {
   "cell_type": "markdown",
   "id": "271864f6",
   "metadata": {},
   "source": [
    "There are 55390 entries."
   ]
  },
  {
   "cell_type": "code",
   "execution_count": null,
   "id": "998fdb38",
   "metadata": {},
   "outputs": [
    {
     "data": {
      "text/plain": [
       "55390"
      ]
     },
     "execution_count": null,
     "metadata": {},
     "output_type": "execute_result"
    }
   ],
   "source": [
    "#|export\n",
    "txt_gpt4 = L([o for o in txt_L if o['source'] == 'GPT-4'])\n",
    "len(txt_gpt4)"
   ]
  },
  {
   "cell_type": "code",
   "execution_count": null,
   "id": "a27505b7",
   "metadata": {},
   "outputs": [
    {
     "name": "stdout",
     "output_type": "stream",
     "text": [
      "Once upon a time, there was a big cave. In the cave, there lived a big bear. The bear was very bitter. He did not like to play with others. He just wanted to be alone.\n",
      "One day, a little bird flew into the cave. The bird wanted to play with the bear. The bear did not like this. He tried to tease the bird. The bird did not go away. The bird kept trying to play with the bear.\n",
      "Then, something unexpected happened. The bear started to laugh. He was not bitter anymore. The little bird and the big bear became friends. They played together every day. They were very happy. \n",
      "Once upon a time there was a young girl named Mary. She loved to explore and never stayed still. One day, when Mary was taking a walk, she stumbled across a giant wreck. She was amazed by what she saw and couldn't believe how big it was.\n",
      "Mary was about to walk away when a voice suddenly spoke. It was an old man who was sitting on a nearby bench. He said, \"Young lady, I know you are curious about the wreck but please don't go \n"
     ]
    }
   ],
   "source": [
    "#|export\n",
    "txt_raw = ' '.join([o['story'] for o in txt_gpt4])"
   ]
  },
  {
   "cell_type": "code",
   "execution_count": null,
   "id": "fc0f8539",
   "metadata": {},
   "outputs": [],
   "source": [
    "import re"
   ]
  },
  {
   "cell_type": "code",
   "execution_count": null,
   "id": "042ba5b6",
   "metadata": {},
   "outputs": [
    {
     "data": {
      "text/plain": [
       "11769"
      ]
     },
     "execution_count": null,
     "metadata": {},
     "output_type": "execute_result"
    }
   ],
   "source": [
    "def count_vocab(text):\n",
    "    \"Count unique vocabulary words in text\"\n",
    "    clean_text = re.sub(r'[^a-zA-Z\\s]', ' ', text.lower())\n",
    "    words = [w for w in clean_text.split() if w]\n",
    "    return len(set(words)), set(words)\n",
    "\n",
    "vocab_count, unique_words = count_vocab(' '.join([o['story'] for o in txt_gpt4]))\n",
    "vocab_count"
   ]
  },
  {
   "cell_type": "markdown",
   "id": "6393c430",
   "metadata": {},
   "source": [
    "So, we have 11769 words."
   ]
  },
  {
   "cell_type": "markdown",
   "id": "5986a22c",
   "metadata": {},
   "source": [
    "Let's tokenize them."
   ]
  },
  {
   "cell_type": "code",
   "execution_count": null,
   "id": "f47ac883",
   "metadata": {},
   "outputs": [],
   "source": [
    "#|export\n",
    "from minbpe import RegexTokenizer"
   ]
  },
  {
   "cell_type": "code",
   "execution_count": null,
   "id": "e053673f",
   "metadata": {},
   "outputs": [
    {
     "data": {
      "text/plain": [
       "[257, 2365, 1597]"
      ]
     },
     "execution_count": null,
     "metadata": {},
     "output_type": "execute_result"
    }
   ],
   "source": [
    "#|export\n",
    "tokenizer = RegexTokenizer()\n",
    "# tokenizer.train(txt_raw, vocab_size=3000)\n",
    "\n",
    "tokenizer.load((path/\"tok3k_regex.model\").name) # loads the model back from disk\n",
    "tokenizer.encode(\"hello world\") # string -> tokens"
   ]
  },
  {
   "cell_type": "code",
   "execution_count": null,
   "id": "a48e2a43",
   "metadata": {},
   "outputs": [
    {
     "data": {
      "text/plain": [
       "' while Fred depend'"
      ]
     },
     "execution_count": null,
     "metadata": {},
     "output_type": "execute_result"
    }
   ],
   "source": [
    "tokenizer.decode([1000, 2000, 2999]) # tokens -> string"
   ]
  },
  {
   "cell_type": "code",
   "execution_count": null,
   "id": "a82ff827",
   "metadata": {},
   "outputs": [
    {
     "data": {
      "text/plain": [
       "'@ABCDEFGHIJKLMNOPQRSTUVWXYZ[\\\\]^_`abcdefghijklmnopqrstuvwxyz{|}~\\x7f������������������������������������������������������������������������'"
      ]
     },
     "execution_count": null,
     "metadata": {},
     "output_type": "execute_result"
    }
   ],
   "source": [
    "tokenizer.decode(list(range(64, 200))) # tokens -> string"
   ]
  },
  {
   "cell_type": "code",
   "execution_count": null,
   "id": "6eb3b69c",
   "metadata": {},
   "outputs": [
    {
     "data": {
      "text/plain": [
       "'Once upon '"
      ]
     },
     "execution_count": null,
     "metadata": {},
     "output_type": "execute_result"
    }
   ],
   "source": [
    "txt_raw[:10]"
   ]
  },
  {
   "cell_type": "code",
   "execution_count": null,
   "id": "9678ea2f",
   "metadata": {},
   "outputs": [
    {
     "data": {
      "text/plain": [
       "[763, 438, 32]"
      ]
     },
     "execution_count": null,
     "metadata": {},
     "output_type": "execute_result"
    }
   ],
   "source": [
    "tokenizer.encode(txt_raw[:10])"
   ]
  },
  {
   "cell_type": "code",
   "execution_count": null,
   "id": "b879bec8",
   "metadata": {},
   "outputs": [],
   "source": [
    "#|export\n",
    "# Code from llm from scratch\n",
    "class TinyDataset(Dataset):\n",
    "    def __init__(self, txt, tokenizer, ctx_len):\n",
    "        self.inp = []\n",
    "        self.targ = []\n",
    "#         token_ids = tokenizer.encode(txt, allowed_special={\"<|endoftext|>\"})\n",
    "        token_ids = tokenizer.encode(txt)\n",
    "        for i in range(0, len(token_ids) - ctx_len, ctx_len):\n",
    "            inp_chunk = token_ids[i:i + ctx_len]\n",
    "            targ_chunk = token_ids[i + 1: i + ctx_len + 1]\n",
    "            self.inp.append(torch.tensor(inp_chunk))\n",
    "            self.targ.append(torch.tensor(targ_chunk))\n",
    "\n",
    "    def __len__(self): return len(self.inp)\n",
    "\n",
    "    def __getitem__(self, idx): return self.inp[idx], self.targ[idx]"
   ]
  },
  {
   "cell_type": "code",
   "execution_count": null,
   "id": "5461646c",
   "metadata": {},
   "outputs": [
    {
     "data": {
      "text/plain": [
       "2769"
      ]
     },
     "execution_count": null,
     "metadata": {},
     "output_type": "execute_result"
    }
   ],
   "source": [
    "55390 // 20"
   ]
  },
  {
   "cell_type": "code",
   "execution_count": null,
   "id": "f3bbc54a",
   "metadata": {},
   "outputs": [
    {
     "data": {
      "text/plain": [
       "2224565"
      ]
     },
     "execution_count": null,
     "metadata": {},
     "output_type": "execute_result"
    }
   ],
   "source": [
    "#|export\n",
    "# Using around 55k\n",
    "total_len = int(len(txt_raw) // 20)\n",
    "total_len"
   ]
  },
  {
   "cell_type": "code",
   "execution_count": null,
   "id": "840e533e",
   "metadata": {},
   "outputs": [
    {
     "data": {
      "text/plain": [
       "2002108"
      ]
     },
     "execution_count": null,
     "metadata": {},
     "output_type": "execute_result"
    }
   ],
   "source": [
    "#|export\n",
    "split = int(total_len * .9)\n",
    "split"
   ]
  },
  {
   "cell_type": "code",
   "execution_count": null,
   "id": "41b3d49c",
   "metadata": {},
   "outputs": [
    {
     "data": {
      "text/plain": [
       "(tensor([ 763,  438,  258,  ..., 1981,  382,  756]),\n",
       " tensor([438, 258, 397,  ..., 382, 756, 377]))"
      ]
     },
     "execution_count": null,
     "metadata": {},
     "output_type": "execute_result"
    }
   ],
   "source": [
    "#|export\n",
    "ctx_len = 1024\n",
    "trn_txts = txt_raw[:split]\n",
    "val_txts = txt_raw[split:total_len]\n",
    "\n",
    "trn_ds = TinyDataset(trn_txts, tokenizer, ctx_len)\n",
    "val_ds = TinyDataset(val_txts, tokenizer, ctx_len)\n",
    "trn_ds[0]"
   ]
  },
  {
   "cell_type": "code",
   "execution_count": null,
   "id": "f59936e5",
   "metadata": {},
   "outputs": [
    {
     "data": {
      "text/plain": [
       "'Once upon a time, there was a big cave. In the cave, there lived a big bear. The bear was very bitte'"
      ]
     },
     "execution_count": null,
     "metadata": {},
     "output_type": "execute_result"
    }
   ],
   "source": [
    "tokenizer.decode(trn_ds[0][0].tolist())[:100]"
   ]
  },
  {
   "cell_type": "code",
   "execution_count": null,
   "id": "e06deb6e",
   "metadata": {},
   "outputs": [
    {
     "data": {
      "text/plain": [
       "' upon a time, there was a big cave. In the cave, there lived a big bear. The bear was very bitter. H'"
      ]
     },
     "execution_count": null,
     "metadata": {},
     "output_type": "execute_result"
    }
   ],
   "source": [
    "tokenizer.decode(trn_ds[0][1].tolist())[:100]"
   ]
  },
  {
   "cell_type": "markdown",
   "id": "08757872",
   "metadata": {},
   "source": [
    "### DataLoader"
   ]
  },
  {
   "cell_type": "code",
   "execution_count": null,
   "id": "d4f8ee24",
   "metadata": {},
   "outputs": [
    {
     "data": {
      "text/plain": [
       "(torch.Size([8, 1024]), torch.Size([8, 1024]))"
      ]
     },
     "execution_count": null,
     "metadata": {},
     "output_type": "execute_result"
    }
   ],
   "source": [
    "#|export\n",
    "bs = 8\n",
    "\n",
    "trn_dl, val_dl = get_dls(trn_ds, val_ds, bs, drop_last=True)\n",
    "dls = DataLoaders(trn_dl, val_dl)\n",
    "xb,yb = next(iter(trn_dl))\n",
    "xb.shape,yb.shape"
   ]
  },
  {
   "cell_type": "markdown",
   "id": "09aec692",
   "metadata": {},
   "source": [
    "## Model"
   ]
  },
  {
   "cell_type": "markdown",
   "id": "4bad50e3",
   "metadata": {},
   "source": [
    "### SDPA"
   ]
  },
  {
   "cell_type": "markdown",
   "id": "55093be6",
   "metadata": {},
   "source": [
    "Here's the `MultiHeadAttention` with Causal attention."
   ]
  },
  {
   "cell_type": "code",
   "execution_count": null,
   "id": "dde98356",
   "metadata": {},
   "outputs": [],
   "source": [
    "#|export\n",
    "class SDPACausalAttentionBlock(nn.Module):\n",
    "    \"\"\"\n",
    "    Attention block implementing multi-head causal (masked) attention using\n",
    "    PyTorch's scaled_dot_product_attention (SDPA).\n",
    "    \"\"\"\n",
    "\n",
    "    def __init__(\n",
    "        self,\n",
    "        hidden_dim: int,\n",
    "        num_heads: int,\n",
    "        dropout: float = 0.0,\n",
    "    ):\n",
    "        \"\"\"\n",
    "        Initialize the causal attention block with SDPA implementation.\n",
    "        \"\"\"\n",
    "        super().__init__()\n",
    "        if hidden_dim % num_heads != 0: raise Exception(\"hidden_dim not divisible by num_heads\")\n",
    "        self.head_dim = hidden_dim // num_heads\n",
    "        self.num_heads = num_heads\n",
    "        self.Wq, self.Wk, self.Wv = nn.Linear(hidden_dim, hidden_dim), nn.Linear(hidden_dim, hidden_dim), nn.Linear(hidden_dim, hidden_dim)\n",
    "#         self.Wo = nn.Linear(hidden_dim, hidden_dim)\n",
    "#         self.dropout = nn.Dropout(dropout)\n",
    "\n",
    "    def forward(self, x: Tensor) -> Tensor:\n",
    "        batch_size, seq_len, hidden_dim = x.shape\n",
    "        q,k,v = self.Wq(x), self.Wk(x), self.Wv(x) # [batch_size, seq_len, d_out]\n",
    "\n",
    "        sdpa_ctx = torch.nn.functional.scaled_dot_product_attention(\n",
    "            q.view(batch_size, seq_len, self.num_heads, self.head_dim).transpose(1,2), \n",
    "            k.view(batch_size, seq_len, self.num_heads, self.head_dim).transpose(1,2), \n",
    "            v.view(batch_size, seq_len, self.num_heads, self.head_dim).transpose(1,2), \n",
    "            dropout_p=0.0, is_causal=True, scale=None)\n",
    "        sdpa_ctx = sdpa_ctx.transpose(1,2).view(batch_size, seq_len, -1)\n",
    "#         return self.dropout(self.Wo(sdpa_ctx))\n",
    "        return sdpa_ctx"
   ]
  },
  {
   "cell_type": "markdown",
   "id": "e5a2119c",
   "metadata": {},
   "source": [
    "### FeedForward"
   ]
  },
  {
   "cell_type": "code",
   "execution_count": null,
   "id": "fbab0dc2",
   "metadata": {},
   "outputs": [],
   "source": [
    "#|export\n",
    "class FeedForward(nn.Module):\n",
    "    def __init__(self, in_dim, hidden_dim, act=nn.ReLU()):\n",
    "        super().__init__()\n",
    "        self.l1 = nn.Linear(in_dim, hidden_dim)\n",
    "        self.act = act\n",
    "        self.l2 = nn.Linear(hidden_dim, in_dim)\n",
    "    \n",
    "    def forward(self, x):\n",
    "        return self.l2(self.act(self.l1(x)))"
   ]
  },
  {
   "cell_type": "markdown",
   "id": "36280c0f",
   "metadata": {},
   "source": [
    "### Transformer Block"
   ]
  },
  {
   "cell_type": "code",
   "execution_count": null,
   "id": "dbd61c74",
   "metadata": {},
   "outputs": [],
   "source": [
    "#|export\n",
    "class TransformerBlock(nn.Module):\n",
    "    def __init__(self, emb_dim, ctx_len, n_head, drop_out=0, ff_mult=4, qkv_bias=False):\n",
    "        super().__init__()\n",
    "        self.ln1 = nn.LayerNorm(emb_dim)\n",
    "        self.ln2 = nn.LayerNorm(emb_dim)\n",
    "        self.mha = SDPACausalAttentionBlock(hidden_dim=emb_dim, num_heads=n_head, dropout=drop_out)\n",
    "        self.do = nn.Dropout(drop_out)\n",
    "        self.ff = FeedForward(emb_dim, emb_dim*ff_mult)\n",
    "    \n",
    "    def forward(self, x):\n",
    "        skip1 = x\n",
    "        x = self.ln1(x)\n",
    "        x = self.mha(x)\n",
    "        x = self.do(x)\n",
    "        x = x + skip1\n",
    "        \n",
    "        skip2 = x\n",
    "        x = self.ln2(x)\n",
    "        x = self.ff(x)\n",
    "        x = self.do(x)\n",
    "        x = x + skip2\n",
    "        return x"
   ]
  },
  {
   "cell_type": "markdown",
   "id": "d382d7ae",
   "metadata": {},
   "source": [
    "### GPT model"
   ]
  },
  {
   "cell_type": "code",
   "execution_count": null,
   "id": "e3cf425a",
   "metadata": {},
   "outputs": [],
   "source": [
    "#|export\n",
    "class GPTModel(nn.Module):\n",
    "    def __init__(self, cfg):\n",
    "        super().__init__()\n",
    "        self.token_emb = nn.Embedding(cfg['vocab_sz'], cfg['emb_dim'])\n",
    "        self.pos_emb = nn.Embedding(cfg['vocab_sz'], cfg['emb_dim'])\n",
    "        self.do = nn.Dropout(cfg['drop_out'])\n",
    "        self.tb = nn.Sequential(\n",
    "            *[TransformerBlock(cfg['emb_dim'], cfg['ctx_len'], cfg['n_head'], cfg['drop_out_tb'],\n",
    "                              cfg['ff_mult'], cfg['qkv_bias']) for _ in range(cfg['n_tb'])])\n",
    "        self.final_ln = nn.LayerNorm(cfg['emb_dim'])\n",
    "        self.final_l  = nn.Linear(cfg['emb_dim'], cfg['vocab_sz'])\n",
    "    \n",
    "    def forward(self, x):\n",
    "        bs, seq_len = x.shape\n",
    "        tok = self.token_emb(x)\n",
    "        pos = self.pos_emb(torch.arange(seq_len, device=x.device))\n",
    "        x = self.do(tok + pos)\n",
    "        x = self.tb(x)\n",
    "        x = self.final_ln(x)\n",
    "        x = self.final_l(x)\n",
    "        return x"
   ]
  },
  {
   "cell_type": "code",
   "execution_count": null,
   "id": "7f2225f0",
   "metadata": {},
   "outputs": [],
   "source": [
    "#|export\n",
    "def get_total_params(model): return sum(p.numel() for p in model.parameters())"
   ]
  },
  {
   "cell_type": "code",
   "execution_count": null,
   "id": "7f5c38f4",
   "metadata": {},
   "outputs": [],
   "source": [
    "#|export\n",
    "def get_total_memory(model):\n",
    "    total_params = get_total_params(model)\n",
    "    total_size_bytes = total_params * 4   # Assuming fp32\n",
    "    # Convert to megabytes\n",
    "    total_size_mb = total_size_bytes / (1024 * 1024)\n",
    "    print(f\"Total params: {total_params:,}\")\n",
    "    print(f\"Total size: {total_size_mb:.2f} MB\")"
   ]
  },
  {
   "cell_type": "markdown",
   "id": "4f022896",
   "metadata": {},
   "source": [
    "### Text generation"
   ]
  },
  {
   "cell_type": "code",
   "execution_count": null,
   "id": "8bc54096",
   "metadata": {},
   "outputs": [],
   "source": [
    "#|export\n",
    "def generate_text_simple(model, idx, max_new_tokens, context_size):\n",
    "    # idx is (batch, n_tokens) array of indices in the current context\n",
    "    for _ in range(max_new_tokens):\n",
    "        idx_cond = idx[:, -context_size:]  # Crop current context if it exceeds the supported context size\n",
    "        with torch.no_grad(): logits = model(idx_cond)         # (bs, n_tokens, vocab_sz)\n",
    "        logits = logits[:, -1, :]                              # (bs, vocab_sz)\n",
    "        probas = torch.softmax(logits, dim=-1)                 # (bs, vocab_sz)\n",
    "        idx_next = torch.argmax(probas, dim=-1, keepdim=True)  # (bs, 1)\n",
    "        idx = torch.cat((idx, idx_next), dim=1)                # (bs, n_tokens+1)\n",
    "    return idx"
   ]
  },
  {
   "cell_type": "code",
   "execution_count": null,
   "id": "511281b5",
   "metadata": {},
   "outputs": [],
   "source": [
    "#|export\n",
    "def text_to_token_ids(text, tokenizer):\n",
    "    encoded = tokenizer.encode(text, allowed_special={'<|endoftext|>'})\n",
    "    encoded_tensor = torch.tensor(encoded).unsqueeze(0) # add batch dimension\n",
    "    return encoded_tensor"
   ]
  },
  {
   "cell_type": "code",
   "execution_count": null,
   "id": "880ff652",
   "metadata": {},
   "outputs": [],
   "source": [
    "#|export\n",
    "def token_ids_to_text(token_ids, tokenizer):\n",
    "    flat = token_ids.squeeze(0) # remove batch dimension\n",
    "    return tokenizer.decode(flat.tolist())"
   ]
  },
  {
   "cell_type": "code",
   "execution_count": null,
   "id": "3d4c8521",
   "metadata": {},
   "outputs": [],
   "source": [
    "#|export\n",
    "def generate(model, idx, max_new_tokens, context_size, temperature=0.0, top_k=None, eos_id=None):\n",
    "    for _ in range(max_new_tokens):\n",
    "        idx_cond = idx[:, -context_size:].to(def_device)\n",
    "        with torch.no_grad():\n",
    "            logits = model(idx_cond)\n",
    "        logits = logits[:, -1, :]\n",
    "        if top_k is not None:\n",
    "            # Keep only top_k values\n",
    "            top_logits, _ = torch.topk(logits, top_k)\n",
    "            min_val = top_logits[:, -1]\n",
    "            logits = torch.where(logits < min_val, torch.tensor(float(\"-inf\")).to(logits.device), logits)\n",
    "        if temperature > 0.0:\n",
    "            logits = logits / temperature\n",
    "            probs = torch.softmax(logits, dim=-1)  # (batch_size, context_len)\n",
    "            idx_next = torch.multinomial(probs, num_samples=1)  # (batch_size, 1)\n",
    "        else:\n",
    "            idx_next = torch.argmax(logits, dim=-1, keepdim=True)  # (batch_size, 1)\n",
    "\n",
    "        if idx_next == eos_id:  # Stop generating early if end-of-sequence token is encountered and eos_id is specified\n",
    "            break\n",
    "        idx = torch.cat((idx, idx_next), dim=1)  # (batch_size, num_tokens+1)\n",
    "    return idx"
   ]
  },
  {
   "cell_type": "code",
   "execution_count": null,
   "id": "57c71c5a",
   "metadata": {},
   "outputs": [],
   "source": [
    "#|export\n",
    "class GenerateTextCB(Callback):\n",
    "    pass"
   ]
  },
  {
   "cell_type": "markdown",
   "id": "c4747a7b",
   "metadata": {},
   "source": [
    "## Learner"
   ]
  },
  {
   "cell_type": "code",
   "execution_count": null,
   "id": "90bca503",
   "metadata": {},
   "outputs": [],
   "source": [
    "#|export\n",
    "from torcheval.metrics import  MulticlassAccuracy"
   ]
  },
  {
   "cell_type": "code",
   "execution_count": null,
   "id": "d440d568",
   "metadata": {},
   "outputs": [],
   "source": [
    "#|export\n",
    "class MixedPrecision(TrainCB):\n",
    "    order = DeviceCB.order+10\n",
    "    def __init__(self, n_inp=1, dtype=torch.bfloat16):\n",
    "        super().__init__(n_inp=n_inp)\n",
    "        self.dtype=dtype\n",
    "    \n",
    "    def before_fit(self, learn): self.scaler = torch.amp.GradScaler('cuda')\n",
    "\n",
    "    def before_batch(self, learn):\n",
    "        self.autocast = torch.autocast(\"cuda\", dtype=self.dtype)\n",
    "        self.autocast.__enter__()\n",
    "\n",
    "    def after_loss(self, learn): self.autocast.__exit__(None, None, None)\n",
    "        \n",
    "    def backward(self, learn): self.scaler.scale(learn.loss).backward()\n",
    "\n",
    "    def step(self, learn):\n",
    "        self.scaler.step(learn.opt)\n",
    "        self.scaler.update()"
   ]
  },
  {
   "cell_type": "code",
   "execution_count": null,
   "id": "69ba3aae",
   "metadata": {},
   "outputs": [],
   "source": [
    "#|export\n",
    "def loss_fn(pred, targ): return F.cross_entropy(pred.flatten(0, 1), targ.flatten())"
   ]
  },
  {
   "cell_type": "code",
   "execution_count": null,
   "id": "b83922cb",
   "metadata": {},
   "outputs": [],
   "source": [
    "#|export\n",
    "cfg = {\n",
    "    'n_tb': 4,    # num transformer blocks\n",
    "    'vocab_sz': 3000,\n",
    "    'emb_dim': 256 // 64,\n",
    "    'ctx_len': ctx_len,\n",
    "    'n_head': 4,\n",
    "    'drop_out': 0,\n",
    "    'drop_out_tb': 0,  # dropout within transformer blocks\n",
    "    'ff_mult': 4,\n",
    "    'qkv_bias': False,\n",
    "}"
   ]
  },
  {
   "cell_type": "code",
   "execution_count": null,
   "id": "d72d6941",
   "metadata": {},
   "outputs": [
    {
     "name": "stdout",
     "output_type": "stream",
     "text": [
      "Total params: 39,904\n",
      "Total size: 0.15 MB\n"
     ]
    }
   ],
   "source": [
    "#|export\n",
    "model = torch.compile(GPTModel(cfg).to(def_device), mode=\"reduce-overhead\")\n",
    "get_total_memory(model)"
   ]
  },
  {
   "cell_type": "code",
   "execution_count": null,
   "id": "68d44a10",
   "metadata": {},
   "outputs": [],
   "source": [
    "#|export\n",
    "class LLMMetricsCB(MetricsCB):\n",
    "    def __init__(self, *ms, **metrics):\n",
    "        super().__init__(*ms, **metrics)\n",
    "    \n",
    "    def after_batch(self, learn):\n",
    "        x,y,*_ = learn.batch\n",
    "        for m in self.metrics.values(): m.update(to_cpu(learn.preds.flatten(0, 1)), y.flatten())\n",
    "        self.loss.update(learn.loss, weight=len(x))"
   ]
  },
  {
   "cell_type": "code",
   "execution_count": null,
   "id": "2c41f673",
   "metadata": {},
   "outputs": [],
   "source": [
    "#|export\n",
    "class TinyProgressCB(ProgressCB):\n",
    "#     order = MetricsCB.order+1\n",
    "    def __init__(self, plot=False, table=True): store_attr()\n",
    "    \n",
    "    def _log(self, d): print(d)"
   ]
  },
  {
   "cell_type": "code",
   "execution_count": null,
   "id": "fd56e4c1",
   "metadata": {},
   "outputs": [
    {
     "data": {
      "text/html": [
       "\n",
       "<style>\n",
       "    /* Turns off some styling */\n",
       "    progress {\n",
       "        /* gets rid of default border in Firefox and Opera. */\n",
       "        border: none;\n",
       "        /* Needs to be in here for Safari polyfill so background images work as expected. */\n",
       "        background-size: auto;\n",
       "    }\n",
       "    progress:not([value]), progress:not([value])::-webkit-progress-bar {\n",
       "        background: repeating-linear-gradient(45deg, #7e7e7e, #7e7e7e 10px, #5c5c5c 10px, #5c5c5c 20px);\n",
       "    }\n",
       "    .progress-bar-interrupted, .progress-bar-interrupted::-webkit-progress-bar {\n",
       "        background: #F44336;\n",
       "    }\n",
       "</style>\n"
      ],
      "text/plain": [
       "<IPython.core.display.HTML object>"
      ]
     },
     "metadata": {},
     "output_type": "display_data"
    },
    {
     "data": {
      "text/html": [
       "\n",
       "    <div>\n",
       "      <progress value='0' class='' max='10' style='width:300px; height:20px; vertical-align: middle;'></progress>\n",
       "      0.00% [0/10 00:00&lt;?]\n",
       "    </div>\n",
       "    \n",
       "\n",
       "\n",
       "    <div>\n",
       "      <progress value='45' class='' max='62' style='width:300px; height:20px; vertical-align: middle;'></progress>\n",
       "      72.58% [45/62 00:13&lt;00:05 16.694]\n",
       "    </div>\n",
       "    "
      ],
      "text/plain": [
       "<IPython.core.display.HTML object>"
      ]
     },
     "metadata": {},
     "output_type": "display_data"
    },
    {
     "data": {
      "image/png": "[encoded data removed]",
      "text/plain": [
       "<Figure size 640x480 with 1 Axes>"
      ]
     },
     "metadata": {},
     "output_type": "display_data"
    }
   ],
   "source": [
    "#|export\n",
    "# opt = torch.optim.AdamW\n",
    "# cbs = [LLMMetricsCB(accuracy=MulticlassAccuracy()), ProgressCB(plot=False), DeviceCB(),  MixedPrecision()]\n",
    "# cbs = [LLMMetricsCB(accuracy=MulticlassAccuracy(device=def_device)), TinyProgressCB(), DeviceCB(), TrainCB()]\n",
    "# learn = Learner(model, dls, loss_func=loss_fn, cbs=cbs, opt_func=opt)\n",
    "# learn.lr_find()"
   ]
  },
  {
   "cell_type": "code",
   "execution_count": null,
   "id": "639085e4",
   "metadata": {},
   "outputs": [
    {
     "name": "stderr",
     "output_type": "stream",
     "text": [
      "/home/kappa/git/minai/minai/core.py:509: FutureWarning: `torch.cuda.amp.GradScaler(args...)` is deprecated. Please use `torch.amp.GradScaler('cuda', args...)` instead.\n",
      "  def before_fit(self, learn): self.scaler = torch.amp.GradScaler('cuda')\n",
      "/home/kappa/miniforge3/envs/torch_latest/lib/python3.11/site-packages/torch/amp/grad_scaler.py:132: UserWarning: torch.cuda.amp.GradScaler is enabled, but CUDA is not available.  Disabling.\n",
      "  warnings.warn(\n"
     ]
    },
    {
     "data": {
      "text/html": [
       "\n",
       "<style>\n",
       "    /* Turns off some styling */\n",
       "    progress {\n",
       "        /* gets rid of default border in Firefox and Opera. */\n",
       "        border: none;\n",
       "        /* Needs to be in here for Safari polyfill so background images work as expected. */\n",
       "        background-size: auto;\n",
       "    }\n",
       "    progress:not([value]), progress:not([value])::-webkit-progress-bar {\n",
       "        background: repeating-linear-gradient(45deg, #7e7e7e, #7e7e7e 10px, #5c5c5c 10px, #5c5c5c 20px);\n",
       "    }\n",
       "    .progress-bar-interrupted, .progress-bar-interrupted::-webkit-progress-bar {\n",
       "        background: #F44336;\n",
       "    }\n",
       "</style>\n"
      ],
      "text/plain": [
       "<IPython.core.display.HTML object>"
      ]
     },
     "metadata": {},
     "output_type": "display_data"
    },
    {
     "data": {
      "text/html": [
       "<table border=\"1\" class=\"dataframe\">\n",
       "  <thead>\n",
       "    <tr style=\"text-align: left;\">\n",
       "      <th>accuracy</th>\n",
       "      <th>loss</th>\n",
       "      <th>epoch</th>\n",
       "      <th>train</th>\n",
       "      <th>time</th>\n",
       "    </tr>\n",
       "  </thead>\n",
       "  <tbody>\n",
       "    <tr>\n",
       "      <td>0.000</td>\n",
       "      <td>8.161</td>\n",
       "      <td>0</td>\n",
       "      <td>train</td>\n",
       "      <td>00:09</td>\n",
       "    </tr>\n",
       "    <tr>\n",
       "      <td>0.001</td>\n",
       "      <td>8.139</td>\n",
       "      <td>0</td>\n",
       "      <td>eval</td>\n",
       "      <td>00:02</td>\n",
       "    </tr>\n",
       "  </tbody>\n",
       "</table>"
      ],
      "text/plain": [
       "<IPython.core.display.HTML object>"
      ]
     },
     "metadata": {},
     "output_type": "display_data"
    },
    {
     "name": "stderr",
     "output_type": "stream",
     "text": [
      "/home/kappa/miniforge3/envs/torch_latest/lib/python3.11/site-packages/torch/amp/autocast_mode.py:266: UserWarning: User provided device_type of 'cuda', but CUDA is not available. Disabling\n",
      "  warnings.warn(\n"
     ]
    }
   ],
   "source": [
    "#|export\n",
    "# set_seed(42)\n",
    "# lr, epochs = 3e-4, 1\n",
    "# tmax = epochs * len(dls.train)\n",
    "# sched = partial(lr_scheduler.OneCycleLR, max_lr=lr, total_steps=tmax)\n",
    "# xtra = [BatchSchedCB(sched)]\n",
    "# model = torch.compile(GPTModel(cfg).to(def_device), mode=\"reduce-overhead\")\n",
    "# cbs = [LLMMetricsCB(accuracy=MulticlassAccuracy()), ProgressCB(plot=True), DeviceCB(),  MixedPrecision()]\n",
    "# # cbs = [LLMMetricsCB(accuracy=MulticlassAccuracy()), ProgressCB(plot=True), DeviceCB(), TrainCB()]\n",
    "# learn = Learner(model, dls, loss_func=loss_fn, cbs=cbs+xtra, opt_func=opt)\n",
    "# learn.fit(epochs, lr=lr)"
   ]
  },
  {
   "cell_type": "code",
   "execution_count": null,
   "id": "5e0cf04f",
   "metadata": {},
   "outputs": [],
   "source": [
    "#|export\n",
    "# start_context = \"Once upon a time, there lived a bunny in a field. Her name was Lucy. Lucy loved to have feasts and parties with her bunny friends. One day, when Lucy was about to leave for a feast at a friend's house, she realized she's starting to feel sick. She was so weak she could\"\n",
    "# model.eval()\n",
    "# token_ids = generate(\n",
    "#     model=model.eval(),\n",
    "#     idx=text_to_token_ids(\"Once upon a time, there lived a bunny in a field. Her name was Lucy. Lucy loved to have feasts and parties with her bunny friends. One day, when Lucy was about to leave for a feast at a friend's house, she realized she's starting to feel sick. She was so weak she could\", tokenizer).to(def_device),\n",
    "#     max_new_tokens=150,\n",
    "#     context_size=cfg[\"ctx_len\"],\n",
    "#     top_k=25,\n",
    "#     temperature=1\n",
    "# )\n",
    "\n",
    "# print(\"Output text:\\n\", token_ids_to_text(token_ids, tokenizer))"
   ]
  },
  {
   "cell_type": "code",
   "execution_count": null,
   "id": "fe6af186",
   "metadata": {},
   "outputs": [],
   "source": [
    "#|export\n",
    "from fastcore.script import *\n",
    "\n",
    "@call_parse\n",
    "def main(\n",
    "    n_tb:Param(\"Number of transformer blocks\", int)=4,\n",
    "    vocab_sz:Param(\"Vocabulary size\", int)=3000,\n",
    "    emb_dim:Param(\"Embedding dimension\", int)=64,\n",
    "    ctx_len:Param(\"Context length\", int)=256,\n",
    "    n_head:Param(\"Number of attention heads\", int)=4,\n",
    "    epochs:Param(\"Number of epochs\", int)=1,\n",
    "    lr:Param(\"Learning rate\", float)=3e-4,\n",
    "    bs:Param(\"Batch size\", int)=4\n",
    "):\n",
    "    \"Run training with specified parameters\"\n",
    "    print(n_tb, vocab_sz, emb_dim, ctx_len, n_head, epochs, lr, bs)\n",
    "    cfg = dict(n_tb=n_tb, vocab_sz=vocab_sz, emb_dim=emb_dim, ctx_len=ctx_len, \n",
    "              n_head=n_head, drop_out=0, drop_out_tb=0, ff_mult=4, qkv_bias=False)\n",
    "    \n",
    "    model = torch.compile(GPTModel(cfg).to(def_device), mode=\"reduce-overhead\")\n",
    "    \n",
    "    cbs = [LLMMetricsCB(accuracy=MulticlassAccuracy()), TinyProgressCB(), DeviceCB(), MixedPrecision()]\n",
    "    learn = Learner(model, dls, loss_func=loss_fn, cbs=cbs, opt_func=torch.optim.AdamW)\n",
    "    \n",
    "    tmax = epochs * len(dls.train)\n",
    "    sched = partial(lr_scheduler.OneCycleLR, max_lr=lr, total_steps=tmax)\n",
    "    xtra = [BatchSchedCB(sched)]\n",
    "    \n",
    "    learn = Learner(model, dls, loss_func=loss_fn, cbs=cbs+xtra, opt_func=torch.optim.AdamW)\n",
    "    learn.fit(epochs, lr=lr)\n",
    "    \n",
    "    return learn"
   ]
  },
  {
   "cell_type": "code",
   "execution_count": null,
   "id": "e289471c",
   "metadata": {},
   "outputs": [],
   "source": [
    "from nbdev import nbdev_export; nbdev_export()"
   ]
  },
  {
   "cell_type": "code",
   "execution_count": null,
   "id": "682eba64",
   "metadata": {},
   "outputs": [],
   "source": []
  }
 ],
 "metadata": {
  "kernelspec": {
   "display_name": "python3",
   "language": "python",
   "name": "python3"
  }
 },
 "nbformat": 4,
 "nbformat_minor": 5
}
